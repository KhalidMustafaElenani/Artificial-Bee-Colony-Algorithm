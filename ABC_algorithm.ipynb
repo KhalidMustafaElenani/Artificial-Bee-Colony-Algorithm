{
  "cells": [
    {
      "cell_type": "markdown",
      "metadata": {
        "id": "uPm-htRQxf-f"
      },
      "source": [
        "## Introduction:\n"
      ]
    },
    {
      "cell_type": "markdown",
      "metadata": {
        "id": "1KzeAWscxgG2"
      },
      "source": [
        "The Artificial Bee Colony (ABC) algorithm:\n",
        "*    It's a population-based optimization algorithm inspired by the foraging behavior of honeybees.\n",
        "*    It consists of three main phases employed bees, onlooker bees, and scout bees.\n",
        "*   In the employed bee phase, bees exploit the information of food sources.\n",
        "*   In the onlooker bee phase, bees choose food sources depending on their quality.\n",
        "\n",
        "*    Finally, in the scout bee phase, bees abandon food sources that have not been visited for a long time and search for new ones.\n",
        "\n",
        "\n",
        "\n",
        "\n",
        "\n",
        "  "
      ]
    },
    {
      "cell_type": "markdown",
      "metadata": {
        "id": "AyIh_ZjN0HFT"
      },
      "source": [
        "The provided Python code implements the ABC algorithm to solve both minimization and maximization problems. The algorithm iteratively refines a population of candidate solutions, aiming to converge towards the optimal solution."
      ]
    },
    {
      "cell_type": "markdown",
      "metadata": {
        "id": "viC6pVChwAVZ"
      },
      "source": [
        "## 1. Initialization:\n"
      ]
    },
    {
      "cell_type": "code",
      "execution_count": 1,
      "metadata": {
        "id": "XasG4oqBv99t"
      },
      "outputs": [],
      "source": [
        "import numpy as np"
      ]
    },
    {
      "cell_type": "markdown",
      "metadata": {
        "id": "54ifl4J1wE_p"
      },
      "source": [
        "### 1.1 Parameters:\n"
      ]
    },
    {
      "cell_type": "code",
      "execution_count": 2,
      "metadata": {
        "id": "o5OMRMAmwHdp"
      },
      "outputs": [],
      "source": [
        "lb = -10  # Lower bounds\n",
        "ub = 10   # Upper bounds\n",
        "\n",
        "Np = 5   # Population size\n",
        "limit = 100  # Limit for scout phase\n",
        "max_iter = 10  # Maximum iterations"
      ]
    },
    {
      "cell_type": "markdown",
      "metadata": {
        "id": "TyGryzlywIYC"
      },
      "source": [
        "### 1.2 Objective function:\n"
      ]
    },
    {
      "cell_type": "code",
      "execution_count": 3,
      "metadata": {
        "id": "zwuI4lU3wKPC"
      },
      "outputs": [],
      "source": [
        "def objective_function(x1, x2, x3, x4):\n",
        "    return x1**2 + x2**2 + x3**2 + x4**2"
      ]
    },
    {
      "cell_type": "markdown",
      "metadata": {
        "id": "9D5xWilTwLKG"
      },
      "source": [
        "### 1.3 Fitness function:\n"
      ]
    },
    {
      "cell_type": "code",
      "execution_count": 4,
      "metadata": {
        "id": "vs1eWzokwNHW"
      },
      "outputs": [],
      "source": [
        "def fitness_function(fx):\n",
        "    # Fitness function to transform objective values into fitness values\n",
        "    if fx >= 0:\n",
        "        return 1 / (1 + fx)\n",
        "    else:\n",
        "        return 1 + abs(fx)"
      ]
    },
    {
      "cell_type": "markdown",
      "metadata": {
        "id": "vKXbhIqtwPi-"
      },
      "source": [
        "### 1.4 Counter function:\n"
      ]
    },
    {
      "cell_type": "code",
      "execution_count": 5,
      "metadata": {
        "id": "2jkfG9dAwRM9"
      },
      "outputs": [],
      "source": [
        "def update_counter(new_fx, prev_fx, counter, is_maximization):\n",
        "    # Counter function to track how many iterations have passed without improvement\n",
        "    if (is_maximization and new_fx > prev_fx) or (not is_maximization and new_fx < prev_fx):\n",
        "        return 0\n",
        "    else:\n",
        "        return counter + 1"
      ]
    },
    {
      "cell_type": "markdown",
      "metadata": {
        "id": "PppjwiXFwR51"
      },
      "source": [
        "### 1.5 Bound function:\n"
      ]
    },
    {
      "cell_type": "code",
      "execution_count": 6,
      "metadata": {
        "id": "szgZC2NvwTxz"
      },
      "outputs": [],
      "source": [
        "def bound(x_new, lb, ub):\n",
        "    # Function to ensure the new solution remains within bounds\n",
        "    return np.clip(x_new, lb, ub)"
      ]
    },
    {
      "cell_type": "markdown",
      "metadata": {
        "id": "TTwrNoCSwU-o"
      },
      "source": [
        "##2. Employed Bees Phase:\n"
      ]
    },
    {
      "cell_type": "code",
      "execution_count": 7,
      "metadata": {
        "id": "xnA5ZELFwYXT"
      },
      "outputs": [],
      "source": [
        "def employed_bees_phase(X, fit, trial, f, lb, ub, is_maximization):\n",
        "    # Employed bees phase where employed bees explore around their position\n",
        "    Np, D = X.shape\n",
        "    for i in range(Np):\n",
        "        # Select a partner bee\n",
        "        partner_idx = np.random.choice([idx for idx in range(Np) if idx != i])\n",
        "\n",
        "        # Choose a dimension to modify\n",
        "        j = np.random.randint(D)\n",
        "\n",
        "        # Generate a random number to determine the exploration direction\n",
        "        phi = np.random.uniform(-1, 1)\n",
        "        X_new = np.copy(X[i])\n",
        "\n",
        "        # Update the position\n",
        "        X_new[j] = X[i][j] + phi * (X[i][j] - X[partner_idx][j])\n",
        "\n",
        "        # Ensure the new position is within bounds\n",
        "        X_new = bound(X_new, lb, ub)\n",
        "\n",
        "        # Calculate the fitness of the new solution\n",
        "        new_fit = fitness_function(f(*X_new))\n",
        "\n",
        "        # If the new solution is better, update the position and reset the trial counter\n",
        "        if new_fit > fit[i]:\n",
        "            X[i] = X_new\n",
        "            fit[i] = new_fit\n",
        "            trial[i] = 0\n",
        "        else:\n",
        "            # Otherwise, increment the trial counter\n",
        "            trial[i] += 1\n",
        "\n",
        "    return X, fit, trial"
      ]
    },
    {
      "cell_type": "markdown",
      "metadata": {
        "id": "alPcDJXxwZTb"
      },
      "source": [
        "##3. Onlooker Bees Phase:\n"
      ]
    },
    {
      "cell_type": "code",
      "execution_count": 8,
      "metadata": {
        "id": "2mdwf3AywcbD"
      },
      "outputs": [],
      "source": [
        "def onlooker_bees_phase(X, fit, trial, f, lb, ub, is_maximization):\n",
        "    # Onlooker bees phase where bees choose food sources based on their fitness\n",
        "    Np, D = X.shape\n",
        "    probabilities = 0.9 * (fit / fit.max()) + 0.1\n",
        "    m = 0\n",
        "    while m < Np:\n",
        "        # Select a bee based on the probabilities of their fitness\n",
        "        i = np.random.choice(Np, p=probabilities/np.sum(probabilities))\n",
        "        partner_idx = np.random.choice([idx for idx in range(Np) if idx != i])\n",
        "\n",
        "        # Choose a dimension to modify\n",
        "        j = np.random.randint(D)\n",
        "        phi = np.random.uniform(-1, 1)\n",
        "        X_new = np.copy(X[i])\n",
        "\n",
        "        # Update the position\n",
        "        X_new[j] = X[i][j] + phi * (X[i][j] - X[partner_idx][j])\n",
        "        X_new = bound(X_new, lb, ub)\n",
        "\n",
        "        # Calculate the fitness of the new solution\n",
        "        new_fit = fitness_function(f(*X_new))\n",
        "\n",
        "        # If the new solution is better, update the position and reset the trial counter\n",
        "        if new_fit > fit[i]:\n",
        "            X[i] = X_new\n",
        "            fit[i] = new_fit\n",
        "            trial[i] = 0\n",
        "        else:\n",
        "            # Otherwise, increment the trial counter\n",
        "            trial[i] += 1\n",
        "        m += 1\n",
        "    return X, fit, trial"
      ]
    },
    {
      "cell_type": "markdown",
      "metadata": {
        "id": "RLMhNLWyweKW"
      },
      "source": [
        "##4. Scout Bees Phase:\n"
      ]
    },
    {
      "cell_type": "code",
      "execution_count": 9,
      "metadata": {
        "id": "quGmvM3jwdww"
      },
      "outputs": [],
      "source": [
        "def scout_bees_phase(X, fit, trial, f, lb, ub, limit):\n",
        "    # Scout bees phase where abandoned food sources are replaced\n",
        "    Np, D = X.shape\n",
        "    for i in range(Np):\n",
        "        if trial[i] > limit:\n",
        "            # Replace abandoned food sources with random solutions\n",
        "            X[i] = np.random.uniform(low=lb, high=ub, size=D)\n",
        "            fit[i] = fitness_function(f(*X[i]))\n",
        "            trial[i] = 0\n",
        "    return X, fit, trial"
      ]
    },
    {
      "cell_type": "markdown",
      "metadata": {
        "id": "4nYMEklPwh9e"
      },
      "source": [
        "##5. Memorize the best solution"
      ]
    },
    {
      "cell_type": "code",
      "execution_count": 10,
      "metadata": {
        "id": "eVodYxxVwp6q"
      },
      "outputs": [],
      "source": [
        "def memorize_best_solution(X, fit, best_solution, best_fit, is_maximization):\n",
        "    # Update the best solution found so far\n",
        "    if is_maximization:\n",
        "        if np.max(fit) > best_fit:\n",
        "            best_fit = np.max(fit)\n",
        "            best_solution = X[np.argmax(fit)]\n",
        "    else:\n",
        "        if np.min(fit) < best_fit:\n",
        "            best_fit = np.min(fit)\n",
        "            best_solution = X[np.argmin(fit)]\n",
        "    return best_solution, best_fit"
      ]
    },
    {
      "cell_type": "markdown",
      "metadata": {
        "id": "ClzTWoY_wshZ"
      },
      "source": [
        "##6. ABC algorithm\n"
      ]
    },
    {
      "cell_type": "code",
      "execution_count": 11,
      "metadata": {
        "id": "iudOAD2qwwf7"
      },
      "outputs": [],
      "source": [
        "def abc_algorithm(f, lb, ub, Np, limit, max_iter, is_maximization=False):\n",
        "    # Artificial Bee Colony (ABC) algorithm\n",
        "    D = 4  # Dimension of the problem (x1, x2, x3, x4)\n",
        "\n",
        "    # Initialize population, fitness, trial counters, and best solution\n",
        "    X = np.random.uniform(low=lb, high=ub, size=(Np, D))\n",
        "    fit = np.array([fitness_function(f(*x)) for x in X])\n",
        "    trial = np.zeros(Np)\n",
        "    best_solution = X[np.argmax(fit) if is_maximization else np.argmin(fit)]\n",
        "    best_fit = np.max(fit) if is_maximization else np.min(fit)\n",
        "\n",
        "    # Main loop\n",
        "    for iteration in range(max_iter):\n",
        "        # Employed bees phase\n",
        "        X, fit, trial = employed_bees_phase(X, fit, trial, f, lb, ub, is_maximization)\n",
        "        # Onlooker bees phase\n",
        "        X, fit, trial = onlooker_bees_phase(X, fit, trial, f, lb, ub, is_maximization)\n",
        "        # Scout bees phase\n",
        "        X, fit, trial = scout_bees_phase(X, fit, trial, f, lb, ub, limit)\n",
        "        # Memorize the best solution found so far\n",
        "        best_solution, best_fit = memorize_best_solution(X, fit, best_solution, best_fit, is_maximization)\n",
        "\n",
        "        # Print iteration details\n",
        "        print(f\"[$]Iteration: {iteration+1}\")\n",
        "        print(\"=\"*105)\n",
        "        print(\"\\tPopulation\\t |\\t  Objective Values\\t|\\t  Fitness Values\\t|\\tCounters\")\n",
        "        print(\"-\"*105)\n",
        "        for i in range(Np):\n",
        "            print(f\"{np.around(X[i], decimals=2)}| \\t\\t{round(f(*X[i]), 2)}\\t\\t|\\t\\t{round(fitness_function(f(*X[i])), 2)}\\t\\t|  \\t  {int(trial[i])}\")\n",
        "        print(\"=\"*105)\n",
        "\n",
        "    return best_solution, best_fit"
      ]
    },
    {
      "cell_type": "markdown",
      "metadata": {
        "id": "h-_3xlJFwyNJ"
      },
      "source": [
        "##7. Main function\n"
      ]
    },
    {
      "cell_type": "code",
      "execution_count": 12,
      "metadata": {
        "id": "VTOvfqVeTkZr"
      },
      "outputs": [],
      "source": [
        "def main():\n",
        "\n",
        "    # Run ABC algorithm for minimization\n",
        "    best_solution_min, best_fit_min = abc_algorithm(objective_function, lb, ub, Np, limit, max_iter, is_maximization=False)\n",
        "    print(\"As a Maximization Problem:\")\n",
        "    print(\"-\"*27)\n",
        "    print(\"Best Solution:\", [f\"{val:.2f}\" for val in best_solution_min])\n",
        "    print(\"Best Fitness:\", round(best_fit_min, 2))\n",
        "    print(\"\\n\\n\")\n",
        "    print(\"-\"*105)\n",
        "    print(\"~\"*105)\n",
        "    print(\"-\"*105)\n",
        "    print(\"\\n\\n\")\n",
        "\n",
        "\n",
        "    # Run ABC algorithm for maximization\n",
        "    best_solution_max, best_fit_max = abc_algorithm(objective_function, lb, ub, Np, limit, max_iter, is_maximization=True)\n",
        "    print(\"As a Minimization Problem:\")\n",
        "    print(\"-\"*27)\n",
        "    print(\"Best Solution:\", [f\"{val:.2f}\" for val in best_solution_max])\n",
        "    print(\"Best Fitness:\", round(best_fit_max, 2))\n",
        "    print(\"-\"*105)\n",
        "    print(\"~\"*105)\n",
        "    print(\"-\"*105)"
      ]
    },
    {
      "cell_type": "code",
      "execution_count": 13,
      "metadata": {
        "colab": {
          "base_uri": "https://localhost:8080/"
        },
        "id": "fND3es9ow23m",
        "outputId": "3ab108bd-e5d7-4080-b861-c8763fe59009"
      },
      "outputs": [
        {
          "name": "stdout",
          "output_type": "stream",
          "text": [
            "[$]Iteration: 1\n",
            "=========================================================================================================\n",
            "\tPopulation\t |\t  Objective Values\t|\t  Fitness Values\t|\tCounters\n",
            "---------------------------------------------------------------------------------------------------------\n",
            "[-0.67  3.62  0.69 -5.94]| \t\t49.4\t\t|\t\t0.02\t\t|  \t  3\n",
            "[-1.54 -3.71  5.85 -4.51]| \t\t70.73\t\t|\t\t0.01\t\t|  \t  0\n",
            "[-7.    2.23  2.2  -6.96]| \t\t107.37\t\t|\t\t0.01\t\t|  \t  2\n",
            "[-9.98  0.64 -5.28  1.5 ]| \t\t130.22\t\t|\t\t0.01\t\t|  \t  1\n",
            "[-5.45  3.84  8.17  5.21]| \t\t138.31\t\t|\t\t0.01\t\t|  \t  0\n",
            "=========================================================================================================\n",
            "[$]Iteration: 2\n",
            "=========================================================================================================\n",
            "\tPopulation\t |\t  Objective Values\t|\t  Fitness Values\t|\tCounters\n",
            "---------------------------------------------------------------------------------------------------------\n",
            "[-0.67  1.71  0.69 -5.94]| \t\t39.19\t\t|\t\t0.02\t\t|  \t  2\n",
            "[-0.67 -3.71  5.85 -4.51]| \t\t68.82\t\t|\t\t0.01\t\t|  \t  0\n",
            "[-7.    2.23  2.2  -6.96]| \t\t107.37\t\t|\t\t0.01\t\t|  \t  3\n",
            "[-8.54  0.64 -5.28  1.5 ]| \t\t103.54\t\t|\t\t0.01\t\t|  \t  0\n",
            "[-5.45  3.84  3.88  5.21]| \t\t86.67\t\t|\t\t0.01\t\t|  \t  0\n",
            "=========================================================================================================\n",
            "[$]Iteration: 3\n",
            "=========================================================================================================\n",
            "\tPopulation\t |\t  Objective Values\t|\t  Fitness Values\t|\tCounters\n",
            "---------------------------------------------------------------------------------------------------------\n",
            "[-0.67  1.71  0.69 -5.39]| \t\t32.96\t\t|\t\t0.03\t\t|  \t  0\n",
            "[-0.67 -3.71  5.85 -4.51]| \t\t68.82\t\t|\t\t0.01\t\t|  \t  0\n",
            "[-7.    2.23  2.2  -5.11]| \t\t85.0\t\t|\t\t0.01\t\t|  \t  0\n",
            "[-8.54 -0.38 -5.28  1.5 ]| \t\t103.28\t\t|\t\t0.01\t\t|  \t  1\n",
            "[-5.45  1.13  3.88  5.21]| \t\t73.22\t\t|\t\t0.01\t\t|  \t  1\n",
            "=========================================================================================================\n",
            "[$]Iteration: 4\n",
            "=========================================================================================================\n",
            "\tPopulation\t |\t  Objective Values\t|\t  Fitness Values\t|\tCounters\n",
            "---------------------------------------------------------------------------------------------------------\n",
            "[-0.67  1.71  0.69 -5.39]| \t\t32.96\t\t|\t\t0.03\t\t|  \t  1\n",
            "[-0.67 -3.71  5.73 -4.51]| \t\t67.42\t\t|\t\t0.01\t\t|  \t  1\n",
            "[-6.22  2.23  2.2   3.87]| \t\t63.43\t\t|\t\t0.02\t\t|  \t  0\n",
            "[-8.54 -0.38 -5.28  1.5 ]| \t\t103.28\t\t|\t\t0.01\t\t|  \t  3\n",
            "[-1.76  1.13  3.88  5.21]| \t\t46.61\t\t|\t\t0.02\t\t|  \t  1\n",
            "=========================================================================================================\n",
            "[$]Iteration: 5\n",
            "=========================================================================================================\n",
            "\tPopulation\t |\t  Objective Values\t|\t  Fitness Values\t|\tCounters\n",
            "---------------------------------------------------------------------------------------------------------\n",
            "[-0.67  1.71  0.69 -5.39]| \t\t32.96\t\t|\t\t0.03\t\t|  \t  3\n",
            "[-0.67 -3.71  5.73 -4.51]| \t\t67.42\t\t|\t\t0.01\t\t|  \t  2\n",
            "[-5.47  2.23  1.4   3.87]| \t\t51.76\t\t|\t\t0.02\t\t|  \t  0\n",
            "[-8.54 -0.38  2.53  1.5 ]| \t\t81.79\t\t|\t\t0.01\t\t|  \t  2\n",
            "[-1.76  1.13  3.88  4.24]| \t\t37.47\t\t|\t\t0.03\t\t|  \t  1\n",
            "=========================================================================================================\n",
            "[$]Iteration: 6\n",
            "=========================================================================================================\n",
            "\tPopulation\t |\t  Objective Values\t|\t  Fitness Values\t|\tCounters\n",
            "---------------------------------------------------------------------------------------------------------\n",
            "[-0.67  1.71  0.69 -5.39]| \t\t32.96\t\t|\t\t0.03\t\t|  \t  7\n",
            "[-0.67 -3.71  5.73 -4.51]| \t\t67.42\t\t|\t\t0.01\t\t|  \t  3\n",
            "[-5.47  2.23  1.4   3.23]| \t\t47.19\t\t|\t\t0.02\t\t|  \t  0\n",
            "[-8.54 -0.38  2.53  1.5 ]| \t\t81.79\t\t|\t\t0.01\t\t|  \t  5\n",
            "[-1.76  1.13  3.88  4.24]| \t\t37.47\t\t|\t\t0.03\t\t|  \t  2\n",
            "=========================================================================================================\n",
            "[$]Iteration: 7\n",
            "=========================================================================================================\n",
            "\tPopulation\t |\t  Objective Values\t|\t  Fitness Values\t|\tCounters\n",
            "---------------------------------------------------------------------------------------------------------\n",
            "[-0.67  1.71  0.69 -5.39]| \t\t32.96\t\t|\t\t0.03\t\t|  \t  8\n",
            "[-0.67 -3.71  5.73 -4.51]| \t\t67.42\t\t|\t\t0.01\t\t|  \t  6\n",
            "[-5.47  2.23  1.4   3.01]| \t\t45.85\t\t|\t\t0.02\t\t|  \t  0\n",
            "[-8.54 -0.38  2.53  0.93]| \t\t80.39\t\t|\t\t0.01\t\t|  \t  2\n",
            "[-1.76  1.13  3.88  3.36]| \t\t30.72\t\t|\t\t0.03\t\t|  \t  1\n",
            "=========================================================================================================\n",
            "[$]Iteration: 8\n",
            "=========================================================================================================\n",
            "\tPopulation\t |\t  Objective Values\t|\t  Fitness Values\t|\tCounters\n",
            "---------------------------------------------------------------------------------------------------------\n",
            "[-0.67  1.24  0.69 -5.39]| \t\t31.56\t\t|\t\t0.03\t\t|  \t  0\n",
            "[-0.66 -3.71  5.73 -4.51]| \t\t67.42\t\t|\t\t0.01\t\t|  \t  0\n",
            "[-5.47  2.23  1.4   3.01]| \t\t45.85\t\t|\t\t0.02\t\t|  \t  2\n",
            "[-8.54 -0.38  2.53  0.93]| \t\t80.39\t\t|\t\t0.01\t\t|  \t  3\n",
            "[-1.76  0.71  3.88  3.36]| \t\t29.94\t\t|\t\t0.03\t\t|  \t  2\n",
            "=========================================================================================================\n",
            "[$]Iteration: 9\n",
            "=========================================================================================================\n",
            "\tPopulation\t |\t  Objective Values\t|\t  Fitness Values\t|\tCounters\n",
            "---------------------------------------------------------------------------------------------------------\n",
            "[-0.67  1.24  0.69 -5.39]| \t\t31.56\t\t|\t\t0.03\t\t|  \t  2\n",
            "[-0.66 -3.71  5.73  1.4 ]| \t\t49.02\t\t|\t\t0.02\t\t|  \t  0\n",
            "[-5.47  2.23 -1.13  3.01]| \t\t45.19\t\t|\t\t0.02\t\t|  \t  0\n",
            "[-8.54  0.27  1.59  0.93]| \t\t76.46\t\t|\t\t0.01\t\t|  \t  0\n",
            "[-0.28  0.71  3.88  3.36]| \t\t26.91\t\t|\t\t0.04\t\t|  \t  0\n",
            "=========================================================================================================\n",
            "[$]Iteration: 10\n",
            "=========================================================================================================\n",
            "\tPopulation\t |\t  Objective Values\t|\t  Fitness Values\t|\tCounters\n",
            "---------------------------------------------------------------------------------------------------------\n",
            "[-0.67  1.24  0.23 -3.64]| \t\t15.27\t\t|\t\t0.06\t\t|  \t  1\n",
            "[-0.66 -3.71  4.07  1.4 ]| \t\t32.74\t\t|\t\t0.03\t\t|  \t  0\n",
            "[-5.47  2.23 -1.13  3.01]| \t\t45.19\t\t|\t\t0.02\t\t|  \t  1\n",
            "[-8.54  0.27  1.59  0.93]| \t\t76.46\t\t|\t\t0.01\t\t|  \t  1\n",
            "[-0.28  0.71  3.88  3.36]| \t\t26.91\t\t|\t\t0.04\t\t|  \t  2\n",
            "=========================================================================================================\n",
            "As a Minimization Problem:\n",
            "---------------------------\n",
            "Best Solution: ['-0.28', '0.71', '3.88', '3.36']\n",
            "Best Fitness: 0.01\n",
            "\n",
            "\n",
            "\n",
            "---------------------------------------------------------------------------------------------------------\n",
            "~~~~~~~~~~~~~~~~~~~~~~~~~~~~~~~~~~~~~~~~~~~~~~~~~~~~~~~~~~~~~~~~~~~~~~~~~~~~~~~~~~~~~~~~~~~~~~~~~~~~~~~~~\n",
            "---------------------------------------------------------------------------------------------------------\n",
            "\n",
            "\n",
            "\n",
            "[$]Iteration: 1\n",
            "=========================================================================================================\n",
            "\tPopulation\t |\t  Objective Values\t|\t  Fitness Values\t|\tCounters\n",
            "---------------------------------------------------------------------------------------------------------\n",
            "[ 9.11 -4.99  1.87 -2.41]| \t\t117.1\t\t|\t\t0.01\t\t|  \t  1\n",
            "[-8.88 -3.43 -9.33  2.13]| \t\t182.26\t\t|\t\t0.01\t\t|  \t  0\n",
            "[-5.25 -3.84 -9.95 -9.83]| \t\t237.95\t\t|\t\t0.0\t\t|  \t  1\n",
            "[-5.24 -4.12 -5.32 -5.54]| \t\t103.43\t\t|\t\t0.01\t\t|  \t  1\n",
            "[ 2.58  2.78 -2.11 -3.89]| \t\t33.93\t\t|\t\t0.03\t\t|  \t  3\n",
            "=========================================================================================================\n",
            "[$]Iteration: 2\n",
            "=========================================================================================================\n",
            "\tPopulation\t |\t  Objective Values\t|\t  Fitness Values\t|\tCounters\n",
            "---------------------------------------------------------------------------------------------------------\n",
            "[-1.3  -4.99  1.87 -2.41]| \t\t35.84\t\t|\t\t0.03\t\t|  \t  0\n",
            "[-8.88 -3.23 -9.33  2.13]| \t\t180.89\t\t|\t\t0.01\t\t|  \t  1\n",
            "[-5.25 -3.84 -9.95 -9.83]| \t\t237.95\t\t|\t\t0.0\t\t|  \t  2\n",
            "[-5.24 -4.12 -5.32 -5.54]| \t\t103.43\t\t|\t\t0.01\t\t|  \t  3\n",
            "[ 2.58  2.78 -2.11 -3.89]| \t\t33.93\t\t|\t\t0.03\t\t|  \t  6\n",
            "=========================================================================================================\n",
            "[$]Iteration: 3\n",
            "=========================================================================================================\n",
            "\tPopulation\t |\t  Objective Values\t|\t  Fitness Values\t|\tCounters\n",
            "---------------------------------------------------------------------------------------------------------\n",
            "[-1.3  -4.99  1.87 -2.41]| \t\t35.84\t\t|\t\t0.03\t\t|  \t  2\n",
            "[-8.88 -3.23 -9.33  2.13]| \t\t180.89\t\t|\t\t0.01\t\t|  \t  2\n",
            "[-2.5  -3.84 -9.95 -9.83]| \t\t216.63\t\t|\t\t0.0\t\t|  \t  1\n",
            "[-5.24 -4.12 -5.32 -5.54]| \t\t103.43\t\t|\t\t0.01\t\t|  \t  5\n",
            "[ 2.58  2.78 -2.11 -3.89]| \t\t33.93\t\t|\t\t0.03\t\t|  \t  9\n",
            "=========================================================================================================\n",
            "[$]Iteration: 4\n",
            "=========================================================================================================\n",
            "\tPopulation\t |\t  Objective Values\t|\t  Fitness Values\t|\tCounters\n",
            "---------------------------------------------------------------------------------------------------------\n",
            "[-0.11 -4.99  1.87 -2.41]| \t\t34.17\t\t|\t\t0.03\t\t|  \t  1\n",
            "[-8.88 -3.23 -8.97  2.13]| \t\t174.32\t\t|\t\t0.01\t\t|  \t  0\n",
            "[-2.5  -3.84 -9.95 -9.83]| \t\t216.63\t\t|\t\t0.0\t\t|  \t  2\n",
            "[-5.24 -4.12 -3.87 -5.54]| \t\t90.16\t\t|\t\t0.01\t\t|  \t  0\n",
            "[ 2.58  2.78 -2.11 -2.99]| \t\t27.78\t\t|\t\t0.03\t\t|  \t  0\n",
            "=========================================================================================================\n",
            "[$]Iteration: 5\n",
            "=========================================================================================================\n",
            "\tPopulation\t |\t  Objective Values\t|\t  Fitness Values\t|\tCounters\n",
            "---------------------------------------------------------------------------------------------------------\n",
            "[-0.11 -4.99  1.24 -2.41]| \t\t32.2\t\t|\t\t0.03\t\t|  \t  1\n",
            "[-8.88 -3.23 -8.97  2.13]| \t\t174.32\t\t|\t\t0.01\t\t|  \t  1\n",
            "[-2.5  -3.84 -9.73 -9.83]| \t\t212.25\t\t|\t\t0.0\t\t|  \t  0\n",
            "[-5.24 -4.12 -2.83 -5.54]| \t\t83.17\t\t|\t\t0.01\t\t|  \t  0\n",
            "[ 2.58 -2.73 -2.11 -2.99]| \t\t27.49\t\t|\t\t0.04\t\t|  \t  2\n",
            "=========================================================================================================\n",
            "[$]Iteration: 6\n",
            "=========================================================================================================\n",
            "\tPopulation\t |\t  Objective Values\t|\t  Fitness Values\t|\tCounters\n",
            "---------------------------------------------------------------------------------------------------------\n",
            "[-0.11 -4.99  1.24 -2.41]| \t\t32.2\t\t|\t\t0.03\t\t|  \t  3\n",
            "[-8.88 -3.23 -8.97  2.13]| \t\t174.32\t\t|\t\t0.01\t\t|  \t  2\n",
            "[-2.5  -2.88 -9.73 -9.83]| \t\t205.82\t\t|\t\t0.0\t\t|  \t  0\n",
            "[-5.24 -4.12 -2.39 -5.54]| \t\t80.87\t\t|\t\t0.01\t\t|  \t  1\n",
            "[ 2.58 -2.25 -2.11 -2.99]| \t\t25.11\t\t|\t\t0.04\t\t|  \t  0\n",
            "=========================================================================================================\n",
            "[$]Iteration: 7\n",
            "=========================================================================================================\n",
            "\tPopulation\t |\t  Objective Values\t|\t  Fitness Values\t|\tCounters\n",
            "---------------------------------------------------------------------------------------------------------\n",
            "[-0.11 -4.99  1.24 -2.41]| \t\t32.2\t\t|\t\t0.03\t\t|  \t  5\n",
            "[-8.88 -3.23 -8.97  2.13]| \t\t174.32\t\t|\t\t0.01\t\t|  \t  3\n",
            "[-0.03 -2.88 -9.73 -9.83]| \t\t199.59\t\t|\t\t0.0\t\t|  \t  0\n",
            "[-2.23 -4.12 -2.39 -5.54]| \t\t58.36\t\t|\t\t0.02\t\t|  \t  1\n",
            "[ 2.58 -2.25 -1.83 -2.99]| \t\t24.02\t\t|\t\t0.04\t\t|  \t  1\n",
            "=========================================================================================================\n",
            "[$]Iteration: 8\n",
            "=========================================================================================================\n",
            "\tPopulation\t |\t  Objective Values\t|\t  Fitness Values\t|\tCounters\n",
            "---------------------------------------------------------------------------------------------------------\n",
            "[-0.11 -4.99  1.24 -1.34]| \t\t28.2\t\t|\t\t0.03\t\t|  \t  1\n",
            "[-8.88 -3.23 -8.97  2.13]| \t\t174.32\t\t|\t\t0.01\t\t|  \t  4\n",
            "[-0.03 -2.88 -9.73 -4.75]| \t\t125.54\t\t|\t\t0.01\t\t|  \t  0\n",
            "[-2.23 -4.12 -2.39 -5.26]| \t\t55.31\t\t|\t\t0.02\t\t|  \t  0\n",
            "[ 2.14 -2.25 -1.52 -2.99]| \t\t20.88\t\t|\t\t0.05\t\t|  \t  0\n",
            "=========================================================================================================\n",
            "[$]Iteration: 9\n",
            "=========================================================================================================\n",
            "\tPopulation\t |\t  Objective Values\t|\t  Fitness Values\t|\tCounters\n",
            "---------------------------------------------------------------------------------------------------------\n",
            "[-0.11 -4.99  1.24 -1.34]| \t\t28.2\t\t|\t\t0.03\t\t|  \t  2\n",
            "[-8.88 -3.23 -7.63  2.13]| \t\t152.01\t\t|\t\t0.01\t\t|  \t  0\n",
            "[-0.03 -2.24 -9.73 -4.75]| \t\t122.23\t\t|\t\t0.01\t\t|  \t  0\n",
            "[-2.23 -4.12 -2.39 -4.77]| \t\t50.43\t\t|\t\t0.02\t\t|  \t  0\n",
            "[ 0.2  -2.25  0.32 -2.99]| \t\t14.15\t\t|\t\t0.07\t\t|  \t  0\n",
            "=========================================================================================================\n",
            "[$]Iteration: 10\n",
            "=========================================================================================================\n",
            "\tPopulation\t |\t  Objective Values\t|\t  Fitness Values\t|\tCounters\n",
            "---------------------------------------------------------------------------------------------------------\n",
            "[-0.11 -4.43  1.24 -1.34]| \t\t23.01\t\t|\t\t0.04\t\t|  \t  1\n",
            "[-8.88 -3.23 -7.63  2.13]| \t\t152.01\t\t|\t\t0.01\t\t|  \t  2\n",
            "[-0.03 -2.24 -9.73 -4.75]| \t\t122.23\t\t|\t\t0.01\t\t|  \t  1\n",
            "[ 0.52 -4.12 -2.39 -4.77]| \t\t45.75\t\t|\t\t0.02\t\t|  \t  0\n",
            "[ 0.2  -2.25 -0.3  -2.99]| \t\t14.14\t\t|\t\t0.07\t\t|  \t  1\n",
            "=========================================================================================================\n",
            "As a Maximization Problem:\n",
            "---------------------------\n",
            "Best Solution: ['0.20', '-2.25', '-0.30', '-2.99']\n",
            "Best Fitness: 0.07\n",
            "---------------------------------------------------------------------------------------------------------\n",
            "~~~~~~~~~~~~~~~~~~~~~~~~~~~~~~~~~~~~~~~~~~~~~~~~~~~~~~~~~~~~~~~~~~~~~~~~~~~~~~~~~~~~~~~~~~~~~~~~~~~~~~~~~\n",
            "---------------------------------------------------------------------------------------------------------\n"
          ]
        }
      ],
      "source": [
        "if __name__ == \"__main__\":\n",
        "    main()"
      ]
    },
    {
      "cell_type": "markdown",
      "metadata": {
        "id": "eq3BMq9S0UPW"
      },
      "source": [
        "##Conclusion:\n"
      ]
    },
    {
      "cell_type": "markdown",
      "metadata": {
        "id": "JXXP-iID0Tik"
      },
      "source": [
        "The implementation demonstrates the effectiveness of the ABC algorithm in solving optimization problems. Through multiple iterations, the algorithm refines the population of solutions, gradually improving their fitness values. The algorithm efficiently explores the solution space by balancing exploration and exploitation, ensuring convergence towards the global optimum.\n",
        "\n",
        "In the provided output, we observe the evolution of the population over successive iterations, with each iteration bringing the algorithm closer to the optimal solution. The final solution obtained showcases the capability of the ABC algorithm to find optimal or near-optimal solutions for both minimization and maximization problems.\n",
        "\n",
        "With further fine-tuning and adaptation to specific problem domains, the ABC algorithm can be a powerful tool for solving a wide range of optimization problems in various fields, including engineering, economics, and machine learning"
      ]
    }
  ],
  "metadata": {
    "colab": {
      "provenance": []
    },
    "kernelspec": {
      "display_name": "Python 3",
      "name": "python3"
    },
    "language_info": {
      "name": "python"
    }
  },
  "nbformat": 4,
  "nbformat_minor": 0
}
